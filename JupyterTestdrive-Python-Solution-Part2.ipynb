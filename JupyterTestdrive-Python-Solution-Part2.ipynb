{
 "cells": [
  {
   "cell_type": "markdown",
   "metadata": {},
   "source": [
    "![Callysto.ca Banner](https://github.com/callysto/curriculum-notebooks/blob/master/callysto-notebook-banner-top.jpg?raw=true)"
   ]
  },
  {
   "cell_type": "markdown",
   "metadata": {},
   "source": [
    "# Basics of Python\n",
    "\n",
    "In this notebook, we're going to continue to go over some of the very basics of Python programming for interested parties."
   ]
  },
  {
   "cell_type": "markdown",
   "metadata": {},
   "source": [
    "## Python Functions\n",
    "\n",
    "You can also define functions in Python which can help simplify and organize code that requires repeated calculations. This is done using the `def` method in Python which can be thought of to mean \"define\". A simple function is defined below. "
   ]
  },
  {
   "cell_type": "code",
   "execution_count": null,
   "metadata": {},
   "outputs": [],
   "source": [
    "def simple_function(x):\n",
    "    return x**2 # a double asterix in python is an exponent\n",
    "\n",
    "simple_function(10)"
   ]
  },
  {
   "cell_type": "markdown",
   "metadata": {},
   "source": [
    "In the line above, we're defining a function with `def`, and in this case we chose to give it a name of `simple_function`. We then specified which variable our function should take as input inside of the parenthesis.  During this definition, we _decided_ to call this variable `x`. We then called the function with its name, and a value for it to use for `x`. We can use functions in combination with other things like loops, shown below."
   ]
  },
  {
   "cell_type": "code",
   "execution_count": null,
   "metadata": {},
   "outputs": [],
   "source": [
    "for i in range(5):\n",
    "    new_variable = simple_function(i)\n",
    "    print(new_variable, \"Look what we can do!\")"
   ]
  },
  {
   "cell_type": "markdown",
   "metadata": {},
   "source": [
    "Notice how in the loop above, we decided to define a new variable based on the output of our function. We also used our loop iterator `i` as the input to our function to calculate those squares for each value from 0 to 4. "
   ]
  },
  {
   "cell_type": "markdown",
   "metadata": {},
   "source": [
    "--- \n",
    "### Exercise 3\n",
    "1. In the first cell below, change the name of the defined function to \"some_name.\"\n",
    "2. In the second cell below, change the formula to calculate the area of a rectangle correctly. \n",
    "3. In the second cell below, change the function to return \"The area of the rectangle is\" along with the calculated output.\n",
    "---"
   ]
  },
  {
   "cell_type": "code",
   "execution_count": null,
   "metadata": {},
   "outputs": [],
   "source": [
    "# Exercises 3.1:\n",
    "\n",
    "## Change the code below for the exercise:\n",
    "def some_name(x):\n",
    "    print('My name is ' + x) #remember, single or double quotes around characters denote strings (i.e. words).\n",
    "##\n",
    "\n",
    "some_name('Zoolander') #try changing 'z' to another word(s). How do you input words that use an apostrophe?\n",
    "some_name(\"Zoolander's friend\")"
   ]
  },
  {
   "cell_type": "code",
   "execution_count": null,
   "metadata": {},
   "outputs": [],
   "source": [
    "# Exercises 3.2 & 3.3:\n",
    "\n",
    "def calculated_area(x, y):\n",
    "## Change the code below for the exercise:\n",
    "    print(x * y)\n",
    "##\n",
    "\n",
    "calculated_area(3, 5)"
   ]
  },
  {
   "cell_type": "markdown",
   "metadata": {},
   "source": [
    "## Graphing\n",
    "We can also graph our function using Python with the following code "
   ]
  },
  {
   "cell_type": "code",
   "execution_count": null,
   "metadata": {},
   "outputs": [],
   "source": [
    "# this library contains some mathematical functions to use\n",
    "import numpy as np\n",
    "# this is the plotting library\n",
    "import matplotlib.pyplot as plt \n",
    "# this is a \"magic\" command which tells jupyter to display our graphs in the notebook\n",
    "%matplotlib inline\n",
    "\n",
    "\n",
    "# here we generate data points for ploting our function.\n",
    "# the first number is the minimum, the second is the maximum, and the third is how many points to generate\n",
    "\n",
    "values_to_plot = np.linspace(-10,10,100) # this creates a list of 100 points from [-10,10]\n",
    "\n",
    "# this is how we create a graph. Notice how we're using 'plt' as it is the library we imported\n",
    "# which contains the plot functions\n",
    "plt.plot(values_to_plot, simple_function(values_to_plot)) #remember that we defined simple_function above\n",
    "# add some axes labels\n",
    "plt.xlabel(\"X values\") \n",
    "plt.ylabel(\"Y values\")\n",
    "# we can use LaTeX typesetting language (for math equations and scientific notation) in plots as well!\n",
    "plt.title(\"$f(x) = x^2$\") \n",
    "\n",
    "plt.show()"
   ]
  },
  {
   "cell_type": "markdown",
   "metadata": {},
   "source": [
    "--- \n",
    "### Exercise 4\n",
    "1. The plot in the first cell below plots the points defined in the lists x & y. Change the numbers in x & y to see how it affects the graph. \n",
    "2. The plot two cells down has various lines commented out to add different features to the plot. Play around with the plot by adding in various lines. \n",
    "3. In the plot two cells down, try to add in a third line by defining a function and having it plot the function.\n",
    "---"
   ]
  },
  {
   "cell_type": "code",
   "execution_count": null,
   "metadata": {},
   "outputs": [],
   "source": [
    "# Exercises 4.1:\n",
    "\n",
    "## Change the code below for the exercise:\n",
    "x = [0, 3, 8, 16, 28, 30]\n",
    "y = [0, 14, 28, 32, 36, 50]\n",
    "##\n",
    "\n",
    "plt.plot(x,y, marker='o',markersize=8);\n"
   ]
  },
  {
   "cell_type": "code",
   "execution_count": null,
   "metadata": {},
   "outputs": [],
   "source": [
    "# Exercises 4.2 & 4.3: \n",
    "values_to_plot = np.linspace(0,10,11)\n",
    "x2 = values_to_plot\n",
    "y2 = simple_function(values_to_plot) #remember that we defined simple_function above\n",
    "x3 = values_to_plot\n",
    "\n",
    "## Change the code below for exercise 4.3:\n",
    "def new_function(x):\n",
    "    return x * 10\n",
    "y3 = new_function(values_to_plot)\n",
    "\n",
    "## Change the code below for the exercise 4.2 & 4.3:\n",
    "plt.plot(x,y)\n",
    "plt.plot(x2, y2)\n",
    "plt.plot(x3, y3)\n",
    "plt.grid()\n",
    "plt.xlabel('yasss')\n",
    "plt.ylabel('no')\n",
    "plt.title(\"Amaze Plot\")\n",
    "plt.legend([\"first\",\"second\",\"third\"])\n",
    "##"
   ]
  },
  {
   "cell_type": "markdown",
   "metadata": {},
   "source": [
    "[![Callysto.ca License](https://github.com/callysto/curriculum-notebooks/blob/master/callysto-notebook-banner-bottom.jpg?raw=true)](https://github.com/callysto/curriculum-notebooks/blob/master/LICENSE.md)"
   ]
  }
 ],
 "metadata": {
  "kernelspec": {
   "display_name": "Python 3",
   "language": "python",
   "name": "python3"
  },
  "language_info": {
   "codemirror_mode": {
    "name": "ipython",
    "version": 3
   },
   "file_extension": ".py",
   "mimetype": "text/x-python",
   "name": "python",
   "nbconvert_exporter": "python",
   "pygments_lexer": "ipython3",
   "version": "3.7.3"
  }
 },
 "nbformat": 4,
 "nbformat_minor": 2
}
