{
 "cells": [
  {
   "cell_type": "markdown",
   "metadata": {},
   "source": [
    "![Callysto.ca Banner](https://github.com/callysto/curriculum-notebooks/blob/master/callysto-notebook-banner-top.jpg?raw=true)"
   ]
  },
  {
   "cell_type": "markdown",
   "metadata": {},
   "source": [
    "# Creating simple data visualizations with Python"
   ]
  },
  {
   "cell_type": "markdown",
   "metadata": {},
   "source": [
    "Data visualizations can be created in a Jupyter notebook using Python code. Let's try a few of them now with this simple data set."
   ]
  },
  {
   "cell_type": "markdown",
   "metadata": {},
   "source": [
    "`Variable 1: 1, 2, 3, 4`\n",
    "\n",
    "`Variable 2: 2, 4, 8 16`"
   ]
  },
  {
   "cell_type": "markdown",
   "metadata": {},
   "source": [
    "Run the code below to create some simple data structures from these data sets."
   ]
  },
  {
   "cell_type": "code",
   "execution_count": null,
   "metadata": {},
   "outputs": [],
   "source": [
    "Var1 = [1,2,3,4]\n",
    "Var2 = [2,4,8,16]"
   ]
  },
  {
   "cell_type": "markdown",
   "metadata": {},
   "source": [
    "You might recall from the last module that a collection of numbers separated by commas and surrounded by square brackets is a **list**, one of Python's native data structures. "
   ]
  },
  {
   "cell_type": "markdown",
   "metadata": {},
   "source": [
    "## Create a bar chart (bar plot)"
   ]
  },
  {
   "cell_type": "markdown",
   "metadata": {},
   "source": [
    "Start by importing the `bar` plot function from the Pyplot submodule of the Matplotlib library. This library is already included within the Callysto hub, so we don't need to worry about installing it. "
   ]
  },
  {
   "cell_type": "code",
   "execution_count": null,
   "metadata": {},
   "outputs": [],
   "source": [
    "from matplotlib.pyplot import bar"
   ]
  },
  {
   "cell_type": "markdown",
   "metadata": {},
   "source": [
    "Now we can use the `bar` function to creat a simple chart from the two lists we created earlier."
   ]
  },
  {
   "cell_type": "code",
   "execution_count": null,
   "metadata": {},
   "outputs": [],
   "source": [
    "bar(Var1,Var2);"
   ]
  },
  {
   "cell_type": "markdown",
   "metadata": {},
   "source": [
    "Notice that the `Var1` values are mapped along the x axis and the `Var2` values are mapped along the y axis. This is because of the order we used to pass them to the `bar` function."
   ]
  },
  {
   "cell_type": "markdown",
   "metadata": {},
   "source": [
    "Now try running the command again with the lists names swapped to see what happens!"
   ]
  },
  {
   "cell_type": "code",
   "execution_count": null,
   "metadata": {},
   "outputs": [],
   "source": [
    "bar(Var2,Var1);"
   ]
  },
  {
   "cell_type": "markdown",
   "metadata": {},
   "source": [
    "## Create a scatter plot"
   ]
  },
  {
   "cell_type": "markdown",
   "metadata": {},
   "source": [
    "Let's take a similar approach, and call the `scatter` function to create a scatter plot. We will use the same `Var1` and `Var2` lists as before. "
   ]
  },
  {
   "cell_type": "code",
   "execution_count": null,
   "metadata": {},
   "outputs": [],
   "source": [
    "from matplotlib.pyplot import scatter"
   ]
  },
  {
   "cell_type": "code",
   "execution_count": null,
   "metadata": {},
   "outputs": [],
   "source": [
    "scatter(Var1,Var2);"
   ]
  },
  {
   "cell_type": "code",
   "execution_count": null,
   "metadata": {},
   "outputs": [],
   "source": [
    "scatter(Var2,Var1);"
   ]
  },
  {
   "cell_type": "markdown",
   "metadata": {},
   "source": [
    "## Create a line chart"
   ]
  },
  {
   "cell_type": "markdown",
   "metadata": {},
   "source": [
    "We will try the same approach and call the `plot` function to create a line chart. "
   ]
  },
  {
   "cell_type": "code",
   "execution_count": null,
   "metadata": {},
   "outputs": [],
   "source": [
    "from matplotlib.pyplot import plot"
   ]
  },
  {
   "cell_type": "code",
   "execution_count": null,
   "metadata": {},
   "outputs": [],
   "source": [
    "plot(Var1,Var2);"
   ]
  },
  {
   "cell_type": "code",
   "execution_count": null,
   "metadata": {},
   "outputs": [],
   "source": [
    "plot(Var2,Var1);"
   ]
  },
  {
   "cell_type": "markdown",
   "metadata": {},
   "source": [
    "## Create a pie chart"
   ]
  },
  {
   "cell_type": "markdown",
   "metadata": {},
   "source": [
    "Pie charts are a little different, as they only require a single set of values. The values must be integers as they represent how much of the pie is allocated to each segment."
   ]
  },
  {
   "cell_type": "code",
   "execution_count": null,
   "metadata": {
    "scrolled": true
   },
   "outputs": [],
   "source": [
    "from matplotlib.pyplot import pie\n",
    "pie(Var1);"
   ]
  },
  {
   "cell_type": "markdown",
   "metadata": {},
   "source": [
    "We can customize how our pie charts look by passing a `colors` parameter."
   ]
  },
  {
   "cell_type": "code",
   "execution_count": null,
   "metadata": {},
   "outputs": [],
   "source": [
    "pie(Var2,colors=['orange','pink','red','black']);"
   ]
  },
  {
   "cell_type": "code",
   "execution_count": null,
   "metadata": {},
   "outputs": [],
   "source": [
    "pie(Var1,colors=['darkgoldenrod','gold','black','maroon']);"
   ]
  },
  {
   "cell_type": "markdown",
   "metadata": {},
   "source": [
    "Try changing the colours in these pie charts!\n",
    "\n",
    "The image below provides the names of the different colours available.\n",
    "\n",
    "![](./images/colours.png)"
   ]
  },
  {
   "cell_type": "markdown",
   "metadata": {},
   "source": [
    "## Create a box plot"
   ]
  },
  {
   "cell_type": "markdown",
   "metadata": {},
   "source": [
    "Box plots are a little more complex than the other visualizations we've created so far.\n",
    "\n",
    "Because they represent the variability or dispersion of data, we'll need a bigger data set than our simple `Var1` and `Var2` lists to create a good example.\n",
    "\n",
    "In your Jupyter notebook, run the code below to create two new lists, `TeamA` and `TeamB`."
   ]
  },
  {
   "cell_type": "code",
   "execution_count": null,
   "metadata": {},
   "outputs": [],
   "source": [
    "TeamA = [2,1,2,3,4,4,4,4,4,4,1,2,4,5,6,4,2,0]\n",
    "TeamB = [1,1,1,3,4,1,4,1,2,4,1,2,4,5,6,4,2,0]"
   ]
  },
  {
   "cell_type": "markdown",
   "metadata": {},
   "source": [
    "Now let's create some box plots from our data.\n",
    "\n",
    "Run the code below to call the `boxplot` tool from the Matplotlib library. "
   ]
  },
  {
   "cell_type": "code",
   "execution_count": null,
   "metadata": {},
   "outputs": [],
   "source": [
    "from matplotlib.pyplot import boxplot"
   ]
  },
  {
   "cell_type": "markdown",
   "metadata": {},
   "source": [
    "Now we'll use `boxplot` to create two box plots, one for each list of data. \n",
    "\n",
    "To help us see which is which, we'll also specify labels for each one."
   ]
  },
  {
   "cell_type": "code",
   "execution_count": null,
   "metadata": {},
   "outputs": [],
   "source": [
    "boxplot([TeamA,TeamB],labels=[\"Team A\",\"Team B\"]);"
   ]
  },
  {
   "cell_type": "markdown",
   "metadata": {},
   "source": [
    "## Putting it all together"
   ]
  },
  {
   "cell_type": "markdown",
   "metadata": {},
   "source": [
    "Now let's put all our data visualizations togther."
   ]
  },
  {
   "cell_type": "code",
   "execution_count": null,
   "metadata": {},
   "outputs": [],
   "source": [
    "import pandas as pd\n",
    "import matplotlib.pyplot as plt \n",
    "\n",
    "print(\"Our data (bar chart, scatter plot, line chart, pie chart)\")\n",
    "data = pd.DataFrame({\"X\":Var1,\"Y\":Var2} )\n",
    "display(data)\n",
    "\n",
    "print(\"Our data (boxplot)\")\n",
    "\n",
    "\n",
    "# Create 2-by-2grid\n",
    "fig, axs = plt.subplots(1, 5, figsize=(20, 5))\n",
    "data2 = pd.DataFrame({\"TeamA\":TeamA,\"TeamB\":TeamB} )\n",
    "display(data2)\n",
    "\n",
    "# Add each plot into the grid\n",
    "axs[0].bar(data[\"X\"],data[\"Y\"]);\n",
    "axs[0].set_title('Bar chart')          \n",
    "axs[1].scatter(data[\"X\"],data[\"Y\"]);\n",
    "axs[1].set_title('Scatter plot') \n",
    "axs[2].plot(data['X'], data[\"Y\"]);\n",
    "axs[2].set_title('Line chart') \n",
    "axs[3].pie(Var1,colors=['darkgoldenrod','gold','black','maroon']);\n",
    "axs[3].set_title('Pie chart') \n",
    "axs[4].boxplot([TeamA,TeamB],labels=[\"Team A\",\"Team B\"])\n",
    "axs[4].set_title('Box plot') \n",
    "plt.show()"
   ]
  },
  {
   "cell_type": "markdown",
   "metadata": {},
   "source": [
    "[![Callysto.ca License](https://github.com/callysto/curriculum-notebooks/blob/master/callysto-notebook-banner-bottom.jpg?raw=true)](https://github.com/callysto/curriculum-notebooks/blob/master/LICENSE.md)"
   ]
  }
 ],
 "metadata": {
  "kernelspec": {
   "display_name": "Python 3",
   "language": "python",
   "name": "python3"
  },
  "language_info": {
   "codemirror_mode": {
    "name": "ipython",
    "version": 3
   },
   "file_extension": ".py",
   "mimetype": "text/x-python",
   "name": "python",
   "nbconvert_exporter": "python",
   "pygments_lexer": "ipython3",
   "version": "3.7.4"
  }
 },
 "nbformat": 4,
 "nbformat_minor": 2
}
