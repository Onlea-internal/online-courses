{
 "cells": [
  {
   "cell_type": "markdown",
   "metadata": {},
   "source": [
    "![Callysto.ca Banner](https://github.com/callysto/curriculum-notebooks/blob/master/callysto-notebook-banner-top.jpg?raw=true)"
   ]
  },
  {
   "cell_type": "markdown",
   "metadata": {},
   "source": [
    "# Speed and power\n",
    "\n",
    "If a visualization is generated from live data, we should consider how long it takes to load when using older systems or less reliable internet connections.\n",
    "\n",
    "\n",
    "When code is pulling from large or complex data sets to produce a visualization, it can take time to compute all that data. This means the notebook will be slow to respond.\n",
    "\n",
    "In most cases Jupyter notebooks use remote server resources from the hub to run code. We can help to optimize visualizations by processing the data using Python before passing that data to the visualization library.\n",
    "\n",
    "________\n",
    "\n",
    "Link to dataset https://opendata.vancouver.ca/explore/dataset/public-art/information/\n",
    "\n",
    "Contains information licensed under the Open Government Licence – Vancouver. See https://opendata.vancouver.ca/pages/licence/ \n",
    "\n",
    "\n",
    "We will begin by downloading the data using their publicly available [API](https://en.wikipedia.org/wiki/Application_programming_interface). \n",
    "\n",
    "\n",
    "Run the cell below using the >| Run button (or press SHIFT + ENTER). \n",
    "\n",
    "Take note of how long it took for the code cells to finish running."
   ]
  },
  {
   "cell_type": "code",
   "execution_count": null,
   "metadata": {},
   "outputs": [],
   "source": [
    "# Get data from URL\n",
    "import requests as r\n",
    "# Parse data\n",
    "import pandas as pd\n",
    "# Visualizations\n",
    "import plotly.express as px\n",
    "import plotly.io as pio\n",
    "# Timing code\n",
    "import time\n",
    "# Get data\n",
    "print(\"Downloading data\")\n",
    "link = \"https://tinyurl.com/ycjwdfhk\""
   ]
  },
  {
   "cell_type": "markdown",
   "metadata": {},
   "source": [
    "Visualizing data as it is downloaded. "
   ]
  },
  {
   "cell_type": "code",
   "execution_count": null,
   "metadata": {},
   "outputs": [],
   "source": [
    "# Downloading and visualizing at the same time\n",
    "t0 = time.time()\n",
    "\n",
    "fig = px.histogram(pd.json_normalize(r.get(link).json()[\"records\"]),x=\"fields.neighbourhood\",title=\"Histogram, art per neighborhood\")\n",
    "fig.show()\n",
    "t1 = time.time()\n",
    "\n",
    "total = t1-t0\n",
    "\n",
    "print(\"Total time taken:\", total)"
   ]
  },
  {
   "cell_type": "code",
   "execution_count": null,
   "metadata": {},
   "outputs": [],
   "source": [
    "t0 = time.time()\n",
    "\n",
    "\n",
    "fig = px.pie(pd.json_normalize(r.get(link).json()[\"records\"]),\"fields.type\",title=\"Pie chart: type of art\")\n",
    "\n",
    "fig.show()\n",
    "t1 = time.time()\n",
    "\n",
    "total = t1-t0\n",
    "\n",
    "print(\"Total time taken:\", total)"
   ]
  },
  {
   "cell_type": "code",
   "execution_count": null,
   "metadata": {},
   "outputs": [],
   "source": [
    "t0 = time.time()\n",
    "\n",
    "fig = px.bar(pd.json_normalize(r.get(link).json()[\"records\"]),'fields.status',title=\"Bar chart: status of art\")\n",
    "fig.show()\n",
    "t1 = time.time()\n",
    "\n",
    "total = t1-t0\n",
    "\n",
    "\n",
    "print(\"Total time taken:\", total)"
   ]
  },
  {
   "cell_type": "code",
   "execution_count": null,
   "metadata": {},
   "outputs": [],
   "source": [
    "t0 = time.time()\n",
    "\n",
    "fig = px.scatter(pd.json_normalize(r.get(link).json()[\"records\"]),'fields.neighbourhood','fields.type',\n",
    "                 marginal_y=\"box\", marginal_x=\"histogram\",\n",
    "          color=\"fields.status\",\n",
    "           title=\"Scatter plot (main plot) of type of art vs neighborhood. Bar chart (top), box plot (right)\")\n",
    "\n",
    "fig.show()\n",
    "t1 = time.time()\n",
    "\n",
    "total = t1-t0\n",
    "\n",
    "\n",
    "print(\"Total time taken:\", total)"
   ]
  },
  {
   "cell_type": "markdown",
   "metadata": {},
   "source": [
    "Downloading the data first, THEN visualize.\n",
    "\n",
    "Let's download the data and store the content in a variable called `records`. We will visualize that dataframe separately."
   ]
  },
  {
   "cell_type": "code",
   "execution_count": null,
   "metadata": {},
   "outputs": [],
   "source": [
    "API_response_trees = r.get(link)\n",
    "data = API_response_trees.json() \n",
    "# Parse data\n",
    "records = pd.json_normalize(data=data['records'])"
   ]
  },
  {
   "cell_type": "code",
   "execution_count": null,
   "metadata": {},
   "outputs": [],
   "source": [
    "t0 = time.time()\n",
    "\n",
    "fig = px.histogram(records,x=\"fields.neighbourhood\",title=\"Histogram, art per neighborhood\")\n",
    "fig.show()\n",
    "t1 = time.time()\n",
    "\n",
    "total = t1-t0\n",
    "\n",
    "\n",
    "print(\"Total time taken:\", total)"
   ]
  },
  {
   "cell_type": "code",
   "execution_count": null,
   "metadata": {},
   "outputs": [],
   "source": [
    "t0 = time.time()\n",
    "\n",
    "fig = px.pie(records,\"fields.type\",title=\"Pie chart: type of art\")\n",
    "\n",
    "fig.show()\n",
    "t1 = time.time()\n",
    "\n",
    "total = t1-t0\n",
    "\n",
    "\n",
    "print(\"Total time taken:\", total)"
   ]
  },
  {
   "cell_type": "code",
   "execution_count": null,
   "metadata": {},
   "outputs": [],
   "source": [
    "t0 = time.time()\n",
    "\n",
    "fig = px.bar(records,'fields.status',title=\"Bar chart: status of art\")\n",
    "\n",
    "fig.show()\n",
    "t1 = time.time()\n",
    "\n",
    "total = t1-t0\n",
    "\n",
    "\n",
    "print(\"Total time taken:\", total)"
   ]
  },
  {
   "cell_type": "code",
   "execution_count": null,
   "metadata": {},
   "outputs": [],
   "source": [
    "t0 = time.time()\n",
    "\n",
    "fig = px.scatter(records,'fields.neighbourhood','fields.type',marginal_y=\"box\", marginal_x=\"histogram\",\n",
    "          color=\"fields.status\",\n",
    "           title=\"Scatter plot (main plot) of type of art vs neighborhood. Bar chart (top), box plot (right)\")\n",
    "\n",
    "\n",
    "fig.show()\n",
    "t1 = time.time()\n",
    "\n",
    "total = t1-t0\n",
    "\n",
    "\n",
    "print(\"Total time taken:\", total)"
   ]
  },
  {
   "cell_type": "markdown",
   "metadata": {},
   "source": [
    "We note that when we download the data and store in a variable, plotting is almost half times faster, than if we downloaded the data each time we plot. "
   ]
  },
  {
   "cell_type": "markdown",
   "metadata": {},
   "source": [
    "[![Callysto.ca License](https://github.com/callysto/curriculum-notebooks/blob/master/callysto-notebook-banner-bottom.jpg?raw=true)](https://github.com/callysto/curriculum-notebooks/blob/master/LICENSE.md)"
   ]
  }
 ],
 "metadata": {
  "kernelspec": {
   "display_name": "Python 3",
   "language": "python",
   "name": "python3"
  },
  "language_info": {
   "codemirror_mode": {
    "name": "ipython",
    "version": 3
   },
   "file_extension": ".py",
   "mimetype": "text/x-python",
   "name": "python",
   "nbconvert_exporter": "python",
   "pygments_lexer": "ipython3",
   "version": "3.7.4"
  }
 },
 "nbformat": 4,
 "nbformat_minor": 2
}
