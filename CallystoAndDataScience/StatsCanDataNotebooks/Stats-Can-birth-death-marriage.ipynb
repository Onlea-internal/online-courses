{
 "cells": [
  {
   "cell_type": "markdown",
   "metadata": {
    "hidden": false
   },
   "source": [
    "![Callysto.ca Banner](https://github.com/callysto/curriculum-notebooks/blob/master/callysto-notebook-banner-top.jpg?raw=true)"
   ]
  },
  {
   "cell_type": "markdown",
   "metadata": {},
   "source": [
    "To run this notebook press the >> Button and confirm \"Restart and Run all\".\n",
    "\n",
    "![](./images/RunB.png)"
   ]
  },
  {
   "cell_type": "code",
   "execution_count": null,
   "metadata": {
    "hidden": false
   },
   "outputs": [],
   "source": [
    "from IPython.display import HTML\n",
    "\n",
    "HTML('''<script>\n",
    "code_show=true; \n",
    "function code_toggle() {\n",
    " if (code_show){\n",
    " $('div.input').hide();\n",
    " } else {\n",
    " $('div.input').show();\n",
    " }\n",
    " code_show = !code_show\n",
    "} \n",
    "$( document ).ready(code_toggle);\n",
    "</script>\n",
    "The raw code for this IPython notebook is by default hidden for easier reading.\n",
    "To toggle on/off the raw code, click <a href=\"javascript:code_toggle()\">here</a>.''')"
   ]
  },
  {
   "cell_type": "markdown",
   "metadata": {
    "hidden": false
   },
   "source": [
    "<h1 align='center'>Births, Deaths and Marriages in Canada</h1>\n",
    "\n",
    "## About this notebook\n",
    "\n",
    "In this notebook we download a full dataset and plot multiple one-dimensional subsets of the data. \n",
    "\n",
    "\n",
    "Data set is obtained from https://www150.statcan.gc.ca/t1/tbl1/en/tv.action?pid=1710005901 via ProductID 17-10-0059-01. \n",
    "\n",
    "This notebook uses our quick data set exploration application, and plots pie charts specific to the data set. \n",
    "\n",
    "## What are the questions we are interested in answering? \n",
    "\n",
    "1. How has the number of deaths and births changed in Canada since 1946? \n",
    "\n",
    "2. Are there provinces where this change is more drastic?\n",
    "\n",
    "3. Are rates of birth and death constant? \n",
    "\n",
    "4. How has the number of marriages in Canada changed since 1946?\n",
    "\n"
   ]
  },
  {
   "cell_type": "code",
   "execution_count": null,
   "metadata": {},
   "outputs": [],
   "source": [
    "!pip install tqdm"
   ]
  },
  {
   "cell_type": "code",
   "execution_count": null,
   "metadata": {
    "hidden": false
   },
   "outputs": [],
   "source": [
    "%run -i ./StatsCan/helpers.py\n",
    "%run -i ./StatsCan/scwds.py\n",
    "%run -i ./StatsCan/sc.py"
   ]
  },
  {
   "cell_type": "code",
   "execution_count": null,
   "metadata": {
    "hidden": false
   },
   "outputs": [],
   "source": [
    "from ipywidgets import widgets, VBox, HBox, Button\n",
    "from ipywidgets import Button, Layout, widgets\n",
    "from IPython.display import display, Javascript, Markdown, HTML\n",
    "import datetime as dt\n",
    "import pandas as pd\n",
    "import json\n",
    "import datetime\n",
    "from tqdm import tnrange, tqdm_notebook\n",
    "from time import sleep\n",
    "\n",
    "\n",
    "def rerun_cell( b ):\n",
    "    \n",
    "    display(Javascript('IPython.notebook.execute_cell_range(IPython.notebook.get_selected_index()+1,IPython.notebook.get_selected_index()+3)'))    \n",
    "\n",
    "    \n",
    "def run_4cell( b ):\n",
    "    \n",
    "    display(Javascript('IPython.notebook.execute_cell_range(IPython.notebook.get_selected_index()+1,IPython.notebook.get_selected_index()+5)'))    \n",
    "\n",
    "style = {'description_width': 'initial'}\n",
    "\n"
   ]
  },
  {
   "cell_type": "markdown",
   "metadata": {
    "hidden": false
   },
   "source": [
    "## Downloading Stats Can Data\n",
    "\n",
    "Press the button below to download the dataset https://www150.statcan.gc.ca/t1/tbl1/en/tv.action?pid=1710005901 directly through StatsCan's API. "
   ]
  },
  {
   "cell_type": "code",
   "execution_count": null,
   "metadata": {
    "hidden": false
   },
   "outputs": [],
   "source": [
    "# Fancy user interface to run cells below\n",
    "DS_button = widgets.Button(\n",
    "    button_style='success',\n",
    "    description=\"Download Dataset\", \n",
    "    layout=Layout(width='15%', height='30px'),\n",
    "    style=style\n",
    ")    \n",
    "DS_button.on_click( run_4cell )\n",
    "\n",
    "display(DS_button)"
   ]
  },
  {
   "cell_type": "code",
   "execution_count": null,
   "metadata": {
    "hidden": false,
    "scrolled": true
   },
   "outputs": [],
   "source": [
    "# # Download data \n",
    "# DATA SET PRODUCT ID  for internal use only. \n",
    "productId = '17-10-0059-01'\n",
    "\n",
    "        \n",
    "download_tables(str(productId))\n",
    "\n",
    "\n",
    "df_fullDATA = zip_table_to_dataframe(productId)\n",
    "\n",
    "\n",
    "# Clean up full dataset - remove internal use columns\n",
    "cols = list(df_fullDATA.loc[:,'REF_DATE':'UOM'])+ ['SCALAR_FACTOR'] +  ['VALUE']\n",
    "df_less = df_fullDATA[cols]\n",
    "df_less2 = df_less.drop([\"DGUID\"], axis=1)\n",
    "\n",
    "# Display only first five entries\n",
    "df_less2.head()"
   ]
  },
  {
   "cell_type": "code",
   "execution_count": null,
   "metadata": {},
   "outputs": [],
   "source": [
    "# Display subsets found within data\n",
    "\n",
    "# Get size of trimmed pandas\n",
    "iteration_nr = df_less2.shape[1]\n",
    "categories = []\n",
    "\n",
    "# Get unique values in each subcategory\n",
    "for i in range(iteration_nr-1):\n",
    "    categories.append(df_less2.iloc[:,i].unique())\n",
    "    \n",
    "    \n",
    "# Build a drop down menu for each subcategory, values displayed are those which were found in the loop above    \n",
    "all_the_widgets = []\n",
    "for i in range(len(categories)):\n",
    "    if i==0:\n",
    "        # First category contains start date\n",
    "        a_category = widgets.Dropdown(\n",
    "                value = categories[i][0],\n",
    "                options = categories[i], \n",
    "                description ='Start Date:', \n",
    "                style = style, \n",
    "                disabled=False\n",
    "            )\n",
    "        b_category = widgets.Dropdown(\n",
    "                value = categories[i][-1],\n",
    "                options = categories[i], \n",
    "                description ='End Date:', \n",
    "                style = style, \n",
    "                disabled=False\n",
    "            )\n",
    "        all_the_widgets.append(a_category)\n",
    "        all_the_widgets.append(b_category)\n",
    "    elif i==1:\n",
    "        # Base category: Store locations\n",
    "        a_category = widgets.Dropdown(\n",
    "                value = categories[i][0],\n",
    "                options = categories[i], \n",
    "                description ='Location:', \n",
    "                style = style, \n",
    "                disabled=False\n",
    "            )\n",
    "        all_the_widgets.append(a_category)\n",
    "    elif i==len(categories)-1:\n",
    "        # Base category: Scalar factor\n",
    "        a_category = widgets.Dropdown(\n",
    "                value = categories[i][0],\n",
    "                options = categories[i], \n",
    "                description ='Scalar factor:', \n",
    "                style = style, \n",
    "                disabled=False\n",
    "            )\n",
    "        all_the_widgets.append(a_category)\n",
    "        \n",
    "    elif i==len(categories)-2:\n",
    "        # Base category: Units of measure\n",
    "        a_category = widgets.Dropdown(\n",
    "                value = categories[i][0],\n",
    "                options = categories[i], \n",
    "                description ='Units of Measure :', \n",
    "                style = style, \n",
    "                disabled=False\n",
    "            )\n",
    "        all_the_widgets.append(a_category)\n",
    "    else:\n",
    "        # Non-base categories which may be added to datasets\n",
    "        a_category = widgets.Dropdown(\n",
    "                value = categories[i][0],\n",
    "                options = categories[i], \n",
    "                description ='Subcategory ' + str(i), \n",
    "                style = style, \n",
    "                disabled=False\n",
    "            )\n",
    "        all_the_widgets.append(a_category)\n"
   ]
  },
  {
   "cell_type": "markdown",
   "metadata": {
    "hidden": false
   },
   "source": [
    "## Select Data Subsets: One-Dimensional Plotting\n",
    "\n",
    "\n",
    "Use the user menu below to select a cateory within the full subset you are interested in exploring. \n",
    "\n",
    "Choose a starting and end date to plot results. \n",
    "\n",
    "If there is data available, it will appear under the headers. \n",
    "\n",
    "Be careful to select dataframes with actual data in them!. \n",
    "\n",
    "Use the Select Dataset button to help you preview the data. "
   ]
  },
  {
   "cell_type": "code",
   "execution_count": null,
   "metadata": {
    "hidden": false,
    "scrolled": true
   },
   "outputs": [],
   "source": [
    "# Fancy user interface to explore datasets\n",
    "# Button widget\n",
    "CD_button = widgets.Button(\n",
    "    button_style='success',\n",
    "    description=\"Preview Dataset\", \n",
    "    layout=Layout(width='15%', height='30px'),\n",
    "    style=style\n",
    ")    \n",
    "\n",
    "# Connect widget to function - run subsequent cells\n",
    "CD_button.on_click( run_4cell )\n",
    "\n",
    "# user menu using categories found above\n",
    "tab3 = VBox(children=[HBox(children=all_the_widgets[0:3]),\n",
    "                      HBox(children=all_the_widgets[3:5]),\n",
    "                      HBox(children=all_the_widgets[5:len(all_the_widgets)]),\n",
    "                      CD_button])\n",
    "tab = widgets.Tab(children=[tab3])\n",
    "tab.set_title(0, 'Load Data Subset')\n",
    "display(tab)"
   ]
  },
  {
   "cell_type": "code",
   "execution_count": null,
   "metadata": {
    "scrolled": true
   },
   "outputs": [],
   "source": [
    "df_sub = df_less2[(df_less2[\"REF_DATE\"]>=all_the_widgets[0].value) & \n",
    "                  (df_less2[\"REF_DATE\"]<=all_the_widgets[1].value) &\n",
    "                  (df_less2[\"GEO\"]==all_the_widgets[2].value) &\n",
    "                  (df_less2[\"UOM\"]==all_the_widgets[-2].value) & \n",
    "                  (df_less2[\"SCALAR_FACTOR\"]==all_the_widgets[-1].value) ]\n",
    "\n",
    "\n",
    "\n",
    "df_sub.head()"
   ]
  },
  {
   "cell_type": "code",
   "execution_count": null,
   "metadata": {},
   "outputs": [],
   "source": [
    "# TO HANDLE THE REST OF THE COLUMNS, SIMPLY SUBSTITUTE VALUES \n",
    "col_name = df_sub.columns[2]\n",
    "\n",
    "# This command will slice dataframe to get only the data we are interested in\n",
    "df_sub_final = df_sub[(df_sub[col_name]==all_the_widgets[3].value)]"
   ]
  },
  {
   "cell_type": "code",
   "execution_count": null,
   "metadata": {},
   "outputs": [],
   "source": [
    "\n",
    "# Time to plot!\n",
    "import matplotlib.pyplot as plt\n",
    "from pandas.plotting import register_matplotlib_converters\n",
    "register_matplotlib_converters()\n",
    "%matplotlib inline\n",
    "\n",
    "# Create \"invisible\" plot on the left - this is not necessary, but I like to center my plots in the notebook\n",
    "# feels more aesthetically pleasing\n",
    "fig1 = plt.figure(facecolor='w',figsize=(18,18))\n",
    "plt.subplot(3, 3, 1)\n",
    "plt.axis('off');\n",
    "\n",
    "# Actual plot of time series\n",
    "plt.subplot(3, 3, 2)\n",
    "# Get start and end date, plot value found under \"VALUE\" command\n",
    "plt.plot(df_sub_final[\"REF_DATE\"],df_sub_final[\"VALUE\"],'b--',label='Value')\n",
    "plt.xlabel('Year-Month', fontsize=20)\n",
    "plt.ylabel('Value',fontsize=20)\n",
    "# Title changes depending on the subcategory explored\n",
    "plt.title(str(all_the_widgets[3].value) + \", \"+  str(all_the_widgets[2].value),fontsize=20)\n",
    "plt.xticks(rotation=90)\n",
    "plt.grid(True)\n",
    "\n",
    "# Create \"invisible\" plot to the right - this is not necessary, but I like to center my plots in the notebook\n",
    "# feels more aesthetically pleasing\n",
    "plt.subplot(3, 3, 3);\n",
    "plt.axis('off');\n"
   ]
  },
  {
   "cell_type": "markdown",
   "metadata": {},
   "source": [
    "#### Your comments here\n",
    "\n",
    "Double click this cell to answer the questions:\n",
    "\n",
    "\n",
    "1. How has the number of deaths and births changed in Canada since 1946?\n",
    "\n",
    "2. Are there provinces where this change is more drastic?\n",
    "\n",
    "3. Are rates of birth and death constant?\n",
    "\n",
    "4. How has the number of marriages in Canada changed since 1946?"
   ]
  },
  {
   "cell_type": "markdown",
   "metadata": {},
   "source": [
    "## Comparing proportion of Births and Deaths between a given year and 2018\n",
    "\n",
    "Use the menu below to pick a year and a region and compare the proportion of births and deaths on that year. The year 2018 is displayed by default. \n",
    "\n",
    "### What questions are we interested in answering\n",
    "\n",
    "1. How does the ratio birth to death, change as you explore different years? \n",
    "\n",
    "2. Is this pattern similar across the different provinces?\n",
    "\n",
    "3. Is there missing data?"
   ]
  },
  {
   "cell_type": "code",
   "execution_count": null,
   "metadata": {},
   "outputs": [],
   "source": [
    "# Pie charts!\n",
    "\n",
    "# Dropdown button to get location\n",
    "geo_dp2 = widgets.Dropdown(\n",
    "    options = categories[1], \n",
    "    description ='Select location:', \n",
    "    style = style, \n",
    "    disabled=False\n",
    ")\n",
    "\n",
    "year_q = widgets.Dropdown(\n",
    "    options = [1946 + i for i in range(73)], \n",
    "    description ='Year A:', \n",
    "    style = style, \n",
    "    disabled=False\n",
    ")\n",
    "\n",
    "year_e = widgets.Dropdown(\n",
    "    options = [1946 + i for i in range(74)], \n",
    "    description ='Year B:', \n",
    "    style = style, \n",
    "    disabled=False,\n",
    "    value=2019\n",
    ")\n",
    "\n",
    "# Button widget to run subsequent cells\n",
    "CD_button2 = widgets.Button(\n",
    "    button_style='success',\n",
    "    description=\"Preview Chart\", \n",
    "    layout=Layout(width='15%', height='30px'),\n",
    "    style=style\n",
    ")    \n",
    "CD_button2.on_click( rerun_cell )\n",
    "\n",
    "# User interface menu\n",
    "tab3 = VBox(children=[HBox(children=[geo_dp2,year_q,year_e]),\n",
    "                      CD_button])\n",
    "tab = widgets.Tab(children=[tab3])\n",
    "tab.set_title(0, 'Preview Chart')\n",
    "display(tab)"
   ]
  },
  {
   "cell_type": "code",
   "execution_count": null,
   "metadata": {},
   "outputs": [],
   "source": [
    "\n",
    "\n",
    "# This function takes as input a dataframe and a quarter, and returns a dataframe with data from that year only\n",
    "def get_year_pd(dataframe,year):\n",
    "    # Get REF_DATE value containing the year we are interested in\n",
    "    df_year = dataframe.loc[(dataframe[\"REF_DATE\"] == str(year))]\n",
    "    # Rename column for easier readability\n",
    "    df4 = df_year.rename(index=str, columns={\"VALUE\": year,\"GEO\":\"Geography\"})\n",
    "    # Drop REF_DATE column - not needed anymore as we have a single year now\n",
    "    df4 = df4.drop(columns=\"REF_DATE\")\n",
    "\n",
    "    return df4\n",
    "\n",
    "# Use function to get first four quarters in 1990 and 2018\n",
    "df_2010_f = get_year_pd(df_less2,str(year_q.value).split(\"-\")[0] + \"-01-01\")\n",
    "df_2010_s = get_year_pd(df_less2,str(year_q.value).split(\"-\")[0] + \"-04-01\")\n",
    "df_2010_t = get_year_pd(df_less2,str(year_q.value).split(\"-\")[0] + \"-07-01\")\n",
    "df_2010_fo = get_year_pd(df_less2,str(year_q.value).split(\"-\")[0] + \"-10-01\")\n",
    "\n",
    "df_2018_f = get_year_pd(df_less2,str(year_e.value).split(\"-\")[0] +\"-01-01\")\n",
    "df_2018_s = get_year_pd(df_less2,str(year_e.value).split(\"-\")[0] +\"-04-01\")\n",
    "df_2018_t = get_year_pd(df_less2,str(year_e.value).split(\"-\")[0] +\"-07-01\")\n",
    "df_2018_fo = get_year_pd(df_less2,str(year_e.value).split(\"-\")[0] +\"-10-01\")\n",
    "\n",
    "# Merge all quarters for 1990 into new dataframe\n",
    "new_df10 = pd.merge(pd.merge(pd.merge(df_2010_f,df_2010_s),df_2010_t),df_2010_fo)\n",
    "# Merge all quarters for 2018 into new dataframe\n",
    "new_df18 = pd.merge(pd.merge(pd.merge(df_2018_f,df_2018_s),df_2018_t),df_2018_fo)\n",
    "new_df = pd.merge(new_df10,new_df18)\n",
    "\n",
    "# We are interested in the proportion of birth and death for two given years, on a quarterly basis\n",
    "df3 = new_df.iloc[2:,:]\n",
    "df4 = df3[df3[\"Estimates\"]==\"Births\"]\n",
    "df5 = df3[df3[\"Estimates\"]==\"Deaths\"]"
   ]
  },
  {
   "cell_type": "code",
   "execution_count": null,
   "metadata": {},
   "outputs": [],
   "source": [
    "# Get region of interest from dropdown menu\n",
    "whichprovince = geo_dp2.value\n",
    "\n",
    "# Get dataframe containing data for that region\n",
    "whichPo = new_df.loc[new_df['Geography']== whichprovince]\n",
    "\n",
    "whichPo.set_index('Estimates', inplace=True)\n",
    "# Display dataframe\n",
    "whichPo"
   ]
  },
  {
   "cell_type": "code",
   "execution_count": null,
   "metadata": {},
   "outputs": [],
   "source": [
    "#load \"cufflinks\" library under short name \"cf\"\n",
    "import cufflinks as cf\n",
    "\n",
    "#command to display graphics correctly in Jupyter notebook\n",
    "cf.go_offline()"
   ]
  },
  {
   "cell_type": "code",
   "execution_count": null,
   "metadata": {
    "scrolled": false
   },
   "outputs": [],
   "source": [
    "# Plotting piecharts\n",
    "\n",
    "# Font size format\n",
    "plt.rcParams.update({'font.size': 15})\n",
    "\n",
    "# Handle case where data is not found\n",
    "if whichPo.size==0:\n",
    "    fig = plt.figure(figsize=(5,5))\n",
    "\n",
    "    plt.text(0.5,0.5,\"NO DATA FOUND\",fontsize=25)\n",
    "    \n",
    "    plt.axis(\"Off\")\n",
    "    \n",
    "else:\n",
    "    # Get sum of death and birth for 2019\n",
    "    final_sum_birth = 0\n",
    "    final_sum_death = 0\n",
    "\n",
    "    for item in whichPo[whichPo.index==\"Births\"].iloc[:,7:].columns:\n",
    "\n",
    "        final_sum_birth+= whichPo[whichPo.index==\"Births\"][item].sum()\n",
    "\n",
    "    for item in whichPo[whichPo.index==\"Deaths\"].iloc[:,7:].columns:\n",
    "\n",
    "        final_sum_death+= whichPo[whichPo.index==\"Deaths\"][item].sum()\n",
    "\n",
    "    # Get sum of death and birth for the other year    \n",
    "    final_sum_birth_o = 0\n",
    "    final_sum_death_o = 0\n",
    "\n",
    "    for item in whichPo[whichPo.index==\"Births\"].iloc[:,3:7].columns:\n",
    "\n",
    "        final_sum_birth_o+= whichPo[whichPo.index==\"Births\"][item].sum()\n",
    "\n",
    "    for item in whichPo[whichPo.index==\"Births\"].iloc[:,3:7].columns:\n",
    "\n",
    "        final_sum_death_o+= whichPo[whichPo.index==\"Deaths\"][item].sum()\n",
    "\n",
    "    # Build new dataframes\n",
    "    deaths_births_o = pd.DataFrame({\"Year\": [str(year_q.value).split(\"-\")[0] + \", births\",\\\n",
    "                                           str(year_q.value).split(\"-\")[0] + \", deaths\"],\n",
    "                  \"Count\":[final_sum_birth_o,final_sum_death_o]})\n",
    "\n",
    "    deaths_births_n = pd.DataFrame({\"Year\": [str(year_e.value).split(\"-\")[0] + ', births', \\\n",
    "                                             str(year_e.value).split(\"-\")[0] + \", deaths\"],\n",
    "                  \"Count\":[final_sum_birth,final_sum_death]})\n",
    "\n",
    "    # Plot\n",
    "    deaths_births_o.iplot(kind='pie',\n",
    "                      labels=\"Year\",\n",
    "                      values=\"Count\",\n",
    "                      title=\"Deaths and births in \" + str(year_q.value).split(\"-\")[0] )\n",
    "    deaths_births_n.iplot(kind='pie',\n",
    "                      labels=\"Year\",\n",
    "                      values=\"Count\",\n",
    "                     title=\"Deaths and births in \" +  str(year_e.value).split(\"-\")[0] )"
   ]
  },
  {
   "cell_type": "markdown",
   "metadata": {},
   "source": [
    "#### Your comments here\n",
    "\n",
    "Double click this cell to answer the questions. \n",
    "\n",
    "### What questions are we interested in answering\n",
    "\n",
    "1. How does the ratio birth to death, change as you explore different years? \n",
    "\n",
    "2. Is this pattern similar across the different provinces?\n",
    "\n",
    "3. Is there missing data?"
   ]
  },
  {
   "cell_type": "markdown",
   "metadata": {
    "hidden": false
   },
   "source": [
    "<h2 align='center'>References</h2>\n",
    "\n",
    "Statistics Canada.  Table  17-10-0059-01   Estimates of the components of natural increase, quarterly\n"
   ]
  },
  {
   "cell_type": "markdown",
   "metadata": {
    "hidden": false
   },
   "source": [
    "[![Callysto.ca License](https://github.com/callysto/curriculum-notebooks/blob/master/callysto-notebook-banner-bottom.jpg?raw=true)](https://github.com/callysto/curriculum-notebooks/blob/master/LICENSE.md)"
   ]
  }
 ],
 "metadata": {
  "kernelspec": {
   "display_name": "Python 3",
   "language": "python",
   "name": "python3"
  },
  "language_info": {
   "codemirror_mode": {
    "name": "ipython",
    "version": 3
   },
   "file_extension": ".py",
   "mimetype": "text/x-python",
   "name": "python",
   "nbconvert_exporter": "python",
   "pygments_lexer": "ipython3",
   "version": "3.7.5"
  }
 },
 "nbformat": 4,
 "nbformat_minor": 2
}
