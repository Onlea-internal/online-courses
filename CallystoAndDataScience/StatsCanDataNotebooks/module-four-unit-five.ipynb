{
 "cells": [
  {
   "cell_type": "markdown",
   "metadata": {},
   "source": [
    "![Callysto.ca Banner](https://github.com/callysto/curriculum-notebooks/blob/master/callysto-notebook-banner-top.jpg?raw=true)"
   ]
  },
  {
   "cell_type": "markdown",
   "metadata": {},
   "source": [
    "# Visualization Design"
   ]
  },
  {
   "cell_type": "markdown",
   "metadata": {},
   "source": [
    "In this notebook we will work with an open dataset from Statistics Canada exploring the engagement of Canadians in outdoor activities. \n",
    "\n",
    "[Citation] Statistics Canada.  Table  38-10-0121-01   Participation in outdoor activities\n",
    "DOI:   https://doi.org/10.25318/3810012101-eng[Contains information licensed under the Open Government Licence – Canada](https://open.canada.ca/en/open-government-licence-canada) \n",
    "\n",
    "\n",
    "We will guide the visualizations in this notebook based on the following guideline:\n",
    "\n",
    "\n",
    "#### 1. Define a Clear Purpose\n",
    "\n",
    "We are interested in answering the questions:\n",
    "\n",
    "1. What outdoor activities to Canadians engage in? \n",
    "\n",
    "2. Are there activities more popular than others across Canadian cities? \n",
    "\n",
    "3. What percentage of Canadians engage in each of the different outdoor activities in 2011, 2013, 2015 and 2017? \n",
    "\n",
    "#### 2. Know the Audience\n",
    "\n",
    "We will assume our audience is fluent in English, and has an understanding of what a province is, as well as what the different provinces in Canada are. \n",
    "\n",
    "#### 3. Use Visual Features to Show the Data Properly\n",
    "\n",
    "Data visualizations we will use include: bar graphs to quantify average percentage of activity across all selected years, as well as line graphs to showcase the top ten cities in which a given activity is popular. \n",
    "\n",
    "\n",
    "#### 4. Keep It Organized and Coherent\n",
    "\n",
    "Questions to ask yourself: Does your visualization look cluttered? Are you mixing data categories? Are you attempting to answer more than one question using a single visualization? \n",
    "\n",
    "\n",
    "#### 5. Make Data Visualization Inclusive\n",
    "Questions to ask yourself: What are colour-blind-friendly colour palettes? Are you using them in your visualizations? If not, how can you incorporate them? Is the size of the visualization elements appropriate? What language does your audience use to communicate? Are there potential biases in your visualization that can be addressed? \n",
    "\n",
    "__________"
   ]
  },
  {
   "cell_type": "markdown",
   "metadata": {},
   "source": [
    "Run the cell below to import modules. "
   ]
  },
  {
   "cell_type": "code",
   "execution_count": null,
   "metadata": {},
   "outputs": [],
   "source": [
    "import plotly.express as px\n",
    "\n",
    "import cufflinks as cf\n",
    "cf.go_offline()"
   ]
  },
  {
   "cell_type": "markdown",
   "metadata": {},
   "source": [
    "And the cell below to obtain the necessary functions to get data from Statistics Canada API. "
   ]
  },
  {
   "cell_type": "code",
   "execution_count": null,
   "metadata": {},
   "outputs": [],
   "source": [
    "%run -i ./StatsCan/helpers.py\n",
    "%run -i ./StatsCan/scwds.py\n",
    "%run -i ./StatsCan/sc.py\n",
    "%run -i ./widgets_libraries.py"
   ]
  },
  {
   "cell_type": "markdown",
   "metadata": {},
   "source": [
    "The product ID associated with the dataset we are interested in is `38-10-0121-01`. Run the cell below to get the data. "
   ]
  },
  {
   "cell_type": "code",
   "execution_count": null,
   "metadata": {
    "scrolled": true
   },
   "outputs": [],
   "source": [
    "# # Download data \n",
    "productId = \"38-10-0121-01\"\n",
    "\n",
    "if \"-\" not in productId:\n",
    "    if len(productId)!=10:\n",
    "        print(\"WARNING: THIS IS LIKELY A NUMBER NOT ASSOCIATED WITH A DATA TABLE. VERIFY AND TRY AGAIN\")\n",
    "        sys.exit(1)\n",
    "\n",
    "        \n",
    "\n",
    "else: \n",
    "    if len(productId.split(\"-\")) !=4:\n",
    "        print(\"WARNING: THIS IS LIKELY A NUMBER NOT ASSOCIATED WITH A DATA TABLE. VERIFY AND TRY AGAIN\")\n",
    "        sys.exit(1)\n",
    "\n",
    "download_tables(str(productId))\n",
    "df_fullDATA = read_data_compute_df(productId)\n",
    "\n",
    "cols = list(df_fullDATA.loc[:,'REF_DATE':'UOM'])+ ['SCALAR_FACTOR'] +  ['VALUE']\n",
    "df_less = df_fullDATA[cols]\n",
    "df_less2 = df_less.drop([\"DGUID\"], axis=1)\n",
    "\n",
    "df_less2.head()"
   ]
  },
  {
   "cell_type": "markdown",
   "metadata": {},
   "source": [
    "### Question 1: What are the top ten cities engaging in a given activity?\n",
    "\n",
    "Let's say I am curious to know the average percentage of Canadians who engage in the following activities:\n",
    "\n",
    "1. Walking\n",
    "2. Bicycling\n",
    "3. Jogging, running, rollerblading, cross-country running\n",
    "4. Hiking\n",
    "5. Snowmobiling\n",
    "\n",
    "Let's explore that usng the code below. \n",
    "\n",
    "Note: we obtained the categories above using the following command `df_less2[\"Participation in outdoor activities\"].unique()`\n",
    "\n",
    "First, start by running the cell below. \n",
    "\n",
    "The code in the cell below looks at the top 10 average percentage of Canadians who engage in walking."
   ]
  },
  {
   "cell_type": "code",
   "execution_count": null,
   "metadata": {},
   "outputs": [],
   "source": [
    "activity='Walking'\n",
    "\n",
    "df_less2[df_less2['Participation in outdoor activities']==\\\n",
    "         activity].groupby(\"GEO\").agg(np.mean)[[\"VALUE\"]].sort_values(by=\"VALUE\")\\\n",
    ".iloc[0:10].iplot(kind='scatter',\n",
    "                  yTitle=\"Average percentage\",\n",
    "                  xTitle=\"Location\",\n",
    "                  # Change color here\n",
    "                  color='red',\n",
    "                  # Change width here\n",
    "                  width=4,\n",
    "                  title='Average percentage of people who engage in ' +str(activity).lower() + \" (top ten places)\")\n",
    "\n"
   ]
  },
  {
   "cell_type": "markdown",
   "metadata": {},
   "source": [
    "#### Activity\n",
    "\n",
    "In the code cell above, change the content in the variable `activity` for one or more of the following values:\n",
    "\n",
    "`\"Bicycling\"`\n",
    "\n",
    "`\"Jogging, running, rollerblading, cross-country running\"`\n",
    "\n",
    "`\"Hiking\"`\n",
    "\n",
    "`\"Snowmobiling\"`\n",
    "\n",
    "What are the top ten cities engaging in each?\n",
    "\n",
    "____"
   ]
  },
  {
   "cell_type": "markdown",
   "metadata": {},
   "source": [
    "### Question 2: What outdoor activities to Canadians engage in?\n",
    "\n",
    "Given the dataset contains information on cities within each province, let's narrow down our search by specifying a province of interest. \n",
    "\n",
    "Run the cell below to see the average percentage of people who enage on a given activity in Ontario. \n"
   ]
  },
  {
   "cell_type": "code",
   "execution_count": null,
   "metadata": {},
   "outputs": [],
   "source": [
    "location='Ontario'\n",
    "\n",
    "new_table = df_less2[df_less2['GEO'].\\\n",
    "                     str.contains(location)].groupby('Participation in outdoor activities').\\\n",
    "                    agg(np.mean)[[\"VALUE\"]].sort_values(by=\"VALUE\")\n",
    "\n",
    "new_table.iplot(kind='bar',\n",
    "       yTitle=\"Average percentage\",\n",
    "       xTitle=\"Location\",\n",
    "        # Change color here\n",
    "        color='red',\n",
    "       title='Average percentage people engage in outdoor activities in ' +str(location))\n",
    "\n"
   ]
  },
  {
   "cell_type": "markdown",
   "metadata": {},
   "source": [
    "#### Activity\n",
    "\n",
    "In the code cell above, change the content in the variable `location` for one or more of the following values:\n",
    "\n",
    "`\"British Columbia\"`\n",
    "\n",
    "`\"Alberta\"`\n",
    "\n",
    "`\"Saskatchewan\"`\n",
    "\n",
    "`\"Winnipeg, Manitoba\"`\n",
    "\n",
    "What are the top ten activities people engage in, for each of the locations? Are there activities no person was recorded engaging in?\n",
    "\n",
    "____"
   ]
  },
  {
   "cell_type": "markdown",
   "metadata": {},
   "source": [
    "### Question 3: What percentage of Canadians engage in each of the different outdoor activities in 2011, 2013, 2015 and 2017?"
   ]
  },
  {
   "cell_type": "markdown",
   "metadata": {},
   "source": [
    "The code above allows us to visualize average percentages, however the dataset contains information from four years: 2011, 2013, 2015 and 2017. \n",
    "\n",
    "Let's pivot our table to take a look at this. \n",
    "\n",
    "Run the cell below to pivot our table. We will remove NaN values from our table. \n"
   ]
  },
  {
   "cell_type": "code",
   "execution_count": null,
   "metadata": {
    "scrolled": true
   },
   "outputs": [],
   "source": [
    "# Pivoting table\n",
    "pivot_by_changes = df_less2.pivot_table(values=\"VALUE\",\n",
    "                     index=[\"GEO\",\"Participation in outdoor activities\"],\n",
    "                     columns='REF_DATE')\n",
    "# Drop NaN values\n",
    "pivot_by_changes = pivot_by_changes.dropna()\n",
    "\n",
    "# Display table\n",
    "pivot_by_changes"
   ]
  },
  {
   "cell_type": "markdown",
   "metadata": {},
   "source": [
    "Let's take a look at how the percentage of people engaging in different outdoor activities has changed for each year. \n",
    "\n",
    "Run the cell below to see these values of Ontario."
   ]
  },
  {
   "cell_type": "code",
   "execution_count": null,
   "metadata": {},
   "outputs": [],
   "source": [
    "province = 'Winnipeg, Manitoba'\n",
    "my_colors = ['red','blue','orange','green']\n",
    "pivot_by_changes.xs(province).iplot(kind='bar',\n",
    "                                     xTitle='Activity',\n",
    "                                    yTitle='Percentage',\n",
    "                                    color=my_colors,\n",
    "                                    title='Percentage of people who engaged in outdoor activites, per year, in '+str(province))"
   ]
  },
  {
   "cell_type": "markdown",
   "metadata": {},
   "source": [
    "In the code cell above, change the content in the variable `location` for one or more of the following values:\n",
    "\n",
    "`\"British Columbia\"`\n",
    "\n",
    "`\"Alberta\"`\n",
    "\n",
    "`\"Saskatchewan\"`\n",
    "\n",
    "`\"Winnipeg, Manitoba\"`\n",
    "\n",
    "What percentage of people engaged in outdoor activities? How has this percentage changed over time? \n",
    "____"
   ]
  },
  {
   "cell_type": "markdown",
   "metadata": {},
   "source": [
    "### Making our data inclusive\n",
    "\n",
    "As a final exercise, visit https://colorbrewer2.org/ and change the colours within the plots to make them colourblind friendly. \n",
    "\n"
   ]
  },
  {
   "cell_type": "markdown",
   "metadata": {},
   "source": [
    "[![Callysto.ca License](https://github.com/callysto/curriculum-notebooks/blob/master/callysto-notebook-banner-bottom.jpg?raw=true)](https://github.com/callysto/curriculum-notebooks/blob/master/LICENSE.md)"
   ]
  }
 ],
 "metadata": {
  "kernelspec": {
   "display_name": "Python 3",
   "language": "python",
   "name": "python3"
  },
  "language_info": {
   "codemirror_mode": {
    "name": "ipython",
    "version": 3
   },
   "file_extension": ".py",
   "mimetype": "text/x-python",
   "name": "python",
   "nbconvert_exporter": "python",
   "pygments_lexer": "ipython3",
   "version": "3.7.4"
  }
 },
 "nbformat": 4,
 "nbformat_minor": 2
}
