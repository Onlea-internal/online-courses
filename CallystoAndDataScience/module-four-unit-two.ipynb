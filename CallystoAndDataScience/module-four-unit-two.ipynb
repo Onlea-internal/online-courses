{
 "cells": [
  {
   "cell_type": "markdown",
   "metadata": {},
   "source": [
    "![Callysto.ca Banner](https://github.com/callysto/curriculum-notebooks/blob/master/callysto-notebook-banner-top.jpg?raw=true)"
   ]
  },
  {
   "cell_type": "markdown",
   "metadata": {},
   "source": [
    "# Choosing the right type of visualization for your data"
   ]
  },
  {
   "cell_type": "markdown",
   "metadata": {},
   "source": [
    "Now that we have learned about a few different kinds of visualizations, it is time to apply what we have learned to a dataset. \n",
    "\n",
    "We will use a few Python-based commands to work with the pets dataset. This dataset contains information on 31 pets, the pet’s name, species, age, gender and time it took for the pets to be adopted, among other information. \n",
    "\n",
    "Let’s take a look at the first few rows.\n",
    "\n",
    "Run the cell below to get the data."
   ]
  },
  {
   "cell_type": "code",
   "execution_count": null,
   "metadata": {},
   "outputs": [],
   "source": [
    "#load \"pandas\" library under short name \"pd\"\n",
    "import pandas as pd\n",
    "# we have csv file of data related to hypothetical pets for adoption from https://www.bootstrapworld.org/materials/data-science/\n",
    "url = \"https://tinyurl.com/y9l6axtz/pets.csv\"\n",
    "#read csv file from url and save it as dataframe\n",
    "pets = pd.read_csv(url)\n",
    "#print data on the screen\n",
    "pets.head()"
   ]
  },
  {
   "cell_type": "markdown",
   "metadata": {},
   "source": [
    "Let’s manipulate the DataFrame to get counts for specific fields. We will use the pandas method “groupby”. This method will allow us to reformat the DataFrame to count the total number of individuals in each category. We will work with three different categories:\n",
    "\n",
    "1. Gender\n",
    "2. Species\n",
    "3. Age (in years)\n",
    "\n",
    "Run the code below to group by each category."
   ]
  },
  {
   "cell_type": "code",
   "execution_count": null,
   "metadata": {},
   "outputs": [],
   "source": [
    "# Group by different Categories: Gender, Species, Age (years)\n",
    "gender = pets.groupby(\"Gender\").size().reset_index(name=\"Count\")\n",
    "species = pets.groupby(\"Species\").size().reset_index(name=\"Count\")\n",
    "age = pets.groupby(\"Age (years)\").size().reset_index(name=\"Count\")"
   ]
  },
  {
   "cell_type": "markdown",
   "metadata": {},
   "source": [
    "Once that is done, let’s see what the groupings look like. Run the code below to see the table. "
   ]
  },
  {
   "cell_type": "code",
   "execution_count": null,
   "metadata": {},
   "outputs": [],
   "source": [
    "gender"
   ]
  },
  {
   "cell_type": "code",
   "execution_count": null,
   "metadata": {},
   "outputs": [],
   "source": [
    "species"
   ]
  },
  {
   "cell_type": "code",
   "execution_count": null,
   "metadata": {},
   "outputs": [],
   "source": [
    "age"
   ]
  },
  {
   "cell_type": "markdown",
   "metadata": {},
   "source": [
    "We can then visualize the data in multiple ways using Plotly express."
   ]
  },
  {
   "cell_type": "code",
   "execution_count": null,
   "metadata": {},
   "outputs": [],
   "source": [
    "import plotly.express as px"
   ]
  },
  {
   "cell_type": "code",
   "execution_count": null,
   "metadata": {
    "scrolled": false
   },
   "outputs": [],
   "source": [
    "# Display the data in multiple ways\n",
    "\n",
    "# Visualizing the Species table\n",
    "fig1 = px.scatter(species,x=\"Species\", y=\"Count\",title='Species Scatter plot')\n",
    "fig1.show()\n",
    "\n",
    "fig2 = px.bar(species,x=\"Species\",y=\"Count\",title=\"Species Bar chart\")\n",
    "fig2.show()\n",
    "\n",
    "fig3 = px.pie(species,values='Count', names='Species', title=\"Species Pie chart\")\n",
    "fig3.show()"
   ]
  },
  {
   "cell_type": "markdown",
   "metadata": {},
   "source": [
    "### Exercise\n",
    "\n",
    "Change the code below to visualize the `gender` and `age` data."
   ]
  },
  {
   "cell_type": "code",
   "execution_count": null,
   "metadata": {},
   "outputs": [],
   "source": [
    "table_to_visualize = gender\n",
    "x_value = \"Gender\"\n",
    "\n",
    "fig1 = px.scatter(table_to_visualize,x=x_value, y=\"Count\",title=str(x_value)+' Scatter plot')\n",
    "fig1.show()\n",
    "\n",
    "fig2 = px.bar(table_to_visualize,x=x_value,y=\"Count\",title=str(x_value)+\" Bar chart\")\n",
    "fig2.show()\n",
    "\n",
    "fig3 = px.pie(table_to_visualize,values='Count', names=x_value, title=str(x_value)+\" Pie chart\")\n",
    "fig3.show()"
   ]
  },
  {
   "cell_type": "markdown",
   "metadata": {},
   "source": [
    "We see that some visualizations communicate the data better, that is, it is easier to see patterns and draw conclusions from the plot or chart. Note that sometimes there is no unique correct answer. \n",
    "\n",
    "\n",
    "Let’s take a look at two examples, one representing data more successfully than the other. Suppose you are interested in using a bar plot to see the relationship between age and how long it took for a pet to be adopted, and that you are interested in seeing this relationship for all species. The plot below is generated with the pets data we downloaded in the previous exercise. \n",
    "\n",
    "Run the code."
   ]
  },
  {
   "cell_type": "code",
   "execution_count": null,
   "metadata": {},
   "outputs": [],
   "source": [
    "# Create bar plot\n",
    "bar_pet = px.bar(pets,\n",
    "           y=\"Time to Adoption (weeks)\", \n",
    "           x=\"Age (years)\",\n",
    "           title=\"Age (in years) and Time to Adoption (weeks) for each pet\")\n",
    "bar_pet.show()"
   ]
  },
  {
   "cell_type": "markdown",
   "metadata": {},
   "source": [
    "From the plot above it is not clear what the height represents nor what each of the categories are. Let’s add the missing items, and colour by species. We will also add the name of the pet. Run the code below. "
   ]
  },
  {
   "cell_type": "code",
   "execution_count": null,
   "metadata": {},
   "outputs": [],
   "source": [
    "# Create coloured bar chart\n",
    "bar_pet = px.bar(pets,\n",
    "           y=\"Time to Adoption (weeks)\", \n",
    "           x=\"Age (years)\",\n",
    "           title=\"Age (in years) and Time to Adoption (weeks) for each pet\",\n",
    "            color =\"Species\",text=\"Name\")\n",
    "\n",
    "bar_pet.show()"
   ]
  },
  {
   "cell_type": "markdown",
   "metadata": {},
   "source": [
    "We see that after adding the relevant information it is clearer to see what is going on. While the bar chart allows us to see when each pet was adopted, this is not the best plot to display a relationship between two variables clearly. \n",
    "Let’s try a scatter plot, and categorize by species.\n"
   ]
  },
  {
   "cell_type": "code",
   "execution_count": null,
   "metadata": {},
   "outputs": [],
   "source": [
    "# Create scatter plot\n",
    "scatter_pet = px.scatter(pets,\n",
    "           y=\"Time to Adoption (weeks)\", \n",
    "           x=\"Age (years)\",\n",
    "           title=\"Age (in years) and Time to Adoption (weeks) for each pet\",\n",
    "            color =\"Species\",size=\"Age (years)\")\n",
    "\n",
    "scatter_pet.show()"
   ]
  },
  {
   "cell_type": "markdown",
   "metadata": {},
   "source": [
    "The plot above is a scatter showing the relationship between age (x axis) and how long it took for the pet to be adopted (y axis). This plot is more effective in conveying this relationship as wel can see younger pets are adopted sooner than older ones. \n",
    "\n",
    "\n",
    "The main take away from this is: just because we can create a plot, it does not mean that it is a good plot. When we work with visual representations of data, it is good to keep in mind the question we are answering and if the visualization is getting an idea across that is relevant to the question we are asking. "
   ]
  },
  {
   "cell_type": "markdown",
   "metadata": {},
   "source": [
    "[![Callysto.ca License](https://github.com/callysto/curriculum-notebooks/blob/master/callysto-notebook-banner-bottom.jpg?raw=true)](https://github.com/callysto/curriculum-notebooks/blob/master/LICENSE.md)"
   ]
  }
 ],
 "metadata": {
  "kernelspec": {
   "display_name": "Python 3",
   "language": "python",
   "name": "python3"
  },
  "language_info": {
   "codemirror_mode": {
    "name": "ipython",
    "version": 3
   },
   "file_extension": ".py",
   "mimetype": "text/x-python",
   "name": "python",
   "nbconvert_exporter": "python",
   "pygments_lexer": "ipython3",
   "version": "3.7.4"
  }
 },
 "nbformat": 4,
 "nbformat_minor": 2
}
