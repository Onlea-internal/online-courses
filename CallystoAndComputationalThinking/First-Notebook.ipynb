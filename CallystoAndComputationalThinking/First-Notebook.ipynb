{
 "cells": [
  {
   "cell_type": "markdown",
   "metadata": {},
   "source": [
    "![Callysto.ca Banner](https://github.com/callysto/curriculum-notebooks/blob/master/callysto-notebook-banner-top.jpg?raw=true)"
   ]
  },
  {
   "cell_type": "markdown",
   "metadata": {},
   "source": [
    "## Welcome to your first Jupyter notebook!\n",
    "\n",
    "This is a simple notebook with some text, pictures, and even a video."
   ]
  },
  {
   "cell_type": "markdown",
   "metadata": {},
   "source": [
    "### Some notes on cells:\n",
    "\n",
    "Click with your mouse, anywhere on the text. The text will changed to  a highlighted box. This is a \"cell\" which can be editted and changed. On the keyboard, press \"Shift-Return\" or \"Control-Return\" to re-activate the cell and format the text.\n",
    "\n",
    "Or press the \"Run\" button on the menu at the top of this page."
   ]
  },
  {
   "cell_type": "markdown",
   "metadata": {},
   "source": [
    "### This is an example of formatted text:\n",
    "\n",
    "Each text cell uses a simple formating language called \"Markdown.\" Markdown let's you use *italics* or **bold** formatting, or even create lists like this:\n",
    "1. one \n",
    "2. two\n",
    "3. three."
   ]
  },
  {
   "cell_type": "markdown",
   "metadata": {},
   "source": [
    "### This is an example of a bullet list:\n",
    "\n",
    "From the movie *The Sound of Music,\" Maria says these are a few of her favorite things:\n",
    "- Raindrops on roses\n",
    "- Whiskers on kittens\n",
    "- Bright copper kettles \n",
    "- Warm woolen mittens\n",
    "- Brown paper packages tied up with strings\n"
   ]
  },
  {
   "cell_type": "markdown",
   "metadata": {},
   "source": [
    "### This is an example of a mathematical formula:\n",
    "\n",
    "$$a^2 + b^2 = c^c$$"
   ]
  },
  {
   "cell_type": "markdown",
   "metadata": {},
   "source": [
    "### Here we can put in a picture:\n",
    "![A sunset in New West](./images/Sunset.jpg)"
   ]
  },
  {
   "cell_type": "markdown",
   "metadata": {},
   "source": [
    "### A link to another notebook:\n",
    "\n",
    "[Click on this link to open another notebook](Module-Extra.ipynb)"
   ]
  },
  {
   "cell_type": "markdown",
   "metadata": {},
   "source": [
    "## A YouTube video:\n",
    "\n",
    "A short piece of code is used to insert a working YouTube video.\n",
    "\n",
    "You will need to activate this piece of code by clicking on the cell below (click on the actual text below), and pressing \"Shift-Return\" or \"Control-Return\" on the keyboard. \n",
    "\n",
    "Or click on the text, and press the \"Run\" button on the menu bar at the top of this page. "
   ]
  },
  {
   "cell_type": "code",
   "execution_count": null,
   "metadata": {},
   "outputs": [],
   "source": [
    "from IPython.display import YouTubeVideo\n",
    "YouTubeVideo('lRHsDJQobtM')"
   ]
  },
  {
   "cell_type": "markdown",
   "metadata": {},
   "source": [
    "### And that's it! Thanks for playing along!"
   ]
  },
  {
   "cell_type": "markdown",
   "metadata": {},
   "source": [
    "[![Callysto.ca License](https://github.com/callysto/curriculum-notebooks/blob/master/callysto-notebook-banner-bottom.jpg?raw=true)](https://github.com/callysto/curriculum-notebooks/blob/master/LICENSE.md)"
   ]
  }
 ],
 "metadata": {
  "kernelspec": {
   "display_name": "Python 3",
   "language": "python",
   "name": "python3"
  },
  "language_info": {
   "codemirror_mode": {
    "name": "ipython",
    "version": 3
   },
   "file_extension": ".py",
   "mimetype": "text/x-python",
   "name": "python",
   "nbconvert_exporter": "python",
   "pygments_lexer": "ipython3",
   "version": "3.7.3"
  }
 },
 "nbformat": 4,
 "nbformat_minor": 2
}
